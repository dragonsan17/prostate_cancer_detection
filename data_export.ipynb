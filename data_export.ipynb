{
  "nbformat": 4,
  "nbformat_minor": 0,
  "metadata": {
    "colab": {
      "name": "data_export.ipynb",
      "provenance": []
    },
    "kernelspec": {
      "name": "python3",
      "display_name": "Python 3"
    }
  },
  "cells": [
    {
      "cell_type": "code",
      "metadata": {
        "id": "0khie0Gd6QY7",
        "colab_type": "code",
        "colab": {}
      },
      "source": [
        "from google.colab import drive\n",
        "import os\n",
        "drive.mount('/content/gdrive/')\n",
        "os.environ['KAGGLE_CONFIG_DIR'] = <private_data_location>\n",
        "!kaggle datasets download -d <private_data_source>\n",
        "!unzip \\*.zip  && rm *.zip\n",
        "!ls"
      ],
      "execution_count": null,
      "outputs": []
    }
  ]
}